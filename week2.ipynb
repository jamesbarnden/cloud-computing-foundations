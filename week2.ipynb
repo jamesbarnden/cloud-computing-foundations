{
  "nbformat": 4,
  "nbformat_minor": 0,
  "metadata": {
    "colab": {
      "provenance": [],
      "authorship_tag": "ABX9TyOOyQmZCLMyrYLG2AmhBf96",
      "include_colab_link": true
    },
    "kernelspec": {
      "name": "python3",
      "display_name": "Python 3"
    },
    "language_info": {
      "name": "python"
    }
  },
  "cells": [
    {
      "cell_type": "markdown",
      "metadata": {
        "id": "view-in-github",
        "colab_type": "text"
      },
      "source": [
        "<a href=\"https://colab.research.google.com/github/jamesbarnden/cloud-computing-foundations/blob/main/week2.ipynb\" target=\"_parent\"><img src=\"https://colab.research.google.com/assets/colab-badge.svg\" alt=\"Open In Colab\"/></a>"
      ]
    },
    {
      "cell_type": "code",
      "execution_count": null,
      "metadata": {
        "colab": {
          "base_uri": "https://localhost:8080/"
        },
        "id": "XWUb16q3GvN2",
        "outputId": "27810864-a5d4-4feb-ad0d-334550b3b049"
      },
      "outputs": [
        {
          "output_type": "stream",
          "name": "stdout",
          "text": [
            "Hello world\n"
          ]
        }
      ],
      "source": [
        "print(\"Hello world\")"
      ]
    },
    {
      "cell_type": "markdown",
      "source": [
        "# Markdown cell\n",
        "\n",
        "* With bullets"
      ],
      "metadata": {
        "id": "GONFLxTHHFFY"
      }
    },
    {
      "cell_type": "code",
      "source": [],
      "metadata": {
        "id": "mlY8iFksGwvS"
      },
      "execution_count": null,
      "outputs": []
    }
  ]
}